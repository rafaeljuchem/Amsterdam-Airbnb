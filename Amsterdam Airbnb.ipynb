{
 "cells": [
  {
   "cell_type": "code",
   "execution_count": 1,
   "metadata": {},
   "outputs": [
    {
     "name": "stdout",
     "output_type": "stream",
     "text": [
      "            id             neighbourhood  price\n",
      "0     23726706  IJburg - Zeeburgereiland     88\n",
      "1     35815036                Noord-Oost    105\n",
      "2     31553121                Noord-West    152\n",
      "3     34745823     Gaasperdam - Driemond     87\n",
      "4     44586947     Gaasperdam - Driemond    160\n",
      "...        ...                       ...    ...\n",
      "6168  48005583    Buitenveldert - Zuidas    142\n",
      "6169  29532926           Watergraafsmeer     95\n",
      "6170  35760705                Noord-West    180\n",
      "6171  36900951    Buitenveldert - Zuidas    174\n",
      "6172  40575103           Watergraafsmeer     65\n",
      "\n",
      "[6173 rows x 3 columns]\n",
      "            id                                               name  \\\n",
      "0     23726706  Private room 20 minutes from Amsterdam + Break...   \n",
      "1     35815036  Vrijstaand vakantiehuis, privé tuin aan het water   \n",
      "2     31553121                    Quiet Guesthouse near Amsterdam   \n",
      "3     34745823           Apartment ' Landzicht', nearby Amsterdam   \n",
      "4     44586947                  Weesp, 2 kamers vlakbij Amsterdam   \n",
      "...        ...                                                ...   \n",
      "6168  48005583                         Aparthotel Adagio I Studio   \n",
      "6169  29532926                  Cozy apartment close to Amsterdam   \n",
      "6170  35760705  Modern  Family House with Large Garden - Amste...   \n",
      "6171  36900951    House with big sunny garden in Amsterdam/A'veen   \n",
      "6172  40575103  Privékamer met badkamer, incl. ontbijt en park...   \n",
      "\n",
      "            room_type  \n",
      "0        Private room  \n",
      "1     Entire home/apt  \n",
      "2     Entire home/apt  \n",
      "3     Entire home/apt  \n",
      "4        Private room  \n",
      "...               ...  \n",
      "6168  Entire home/apt  \n",
      "6169  Entire home/apt  \n",
      "6170  Entire home/apt  \n",
      "6171  Entire home/apt  \n",
      "6172     Private room  \n",
      "\n",
      "[6173 rows x 3 columns]\n",
      "            id                         host_name last_review\n",
      "0     23726706                          Patricia  2022-05-29\n",
      "1     35815036                             Lydia  2022-06-02\n",
      "2     31553121                              Ralf  2022-05-29\n",
      "3     34745823                             Daisy  2022-04-17\n",
      "4     44586947                            Aranka  2022-05-29\n",
      "...        ...                               ...         ...\n",
      "6168  48005583  Aparthotel Adagio Amsterdam City  2022-03-27\n",
      "6169  29532926                             Janna  2022-05-19\n",
      "6170  35760705                             Niels         NaN\n",
      "6171  36900951                            Saskia  2022-05-23\n",
      "6172  40575103                           Quirien  2022-05-21\n",
      "\n",
      "[6173 rows x 3 columns]\n"
     ]
    }
   ],
   "source": [
    "#Using InsideAirbnb's dataset I analyzed Amsterdam's Airbnb data.\n",
    "import pandas as pd\n",
    "import numpy as np\n",
    "\n",
    "# Loading 'id','price','neighbourhood' columns to to the variable prices and printing the resulting dataframe\n",
    "prices = pd.read_csv(r\"Amsterdam_airbnb_listings_05_June_2022.csv\", usecols=['id','price','neighbourhood'])\n",
    "print(prices)\n",
    "\n",
    "# Loading 'id','room_type','name' columns to to the variable room_types and printing the resulting dataframe\n",
    "room_types = pd.read_csv(r\"Amsterdam_airbnb_listings_05_June_2022.csv\", usecols=['id','room_type','name'])\n",
    "print(room_types)\n",
    "\n",
    "# Loading 'id','host_name','last_review'columns to to the variable reviews and printing the resulting dataframe\n",
    "reviews = pd.read_csv(r\"Amsterdam_airbnb_listings_05_June_2022.csv\", usecols=['id','host_name','last_review'])\n",
    "print(reviews)"
   ]
  },
  {
   "cell_type": "code",
   "execution_count": 2,
   "metadata": {},
   "outputs": [
    {
     "name": "stdout",
     "output_type": "stream",
     "text": [
      "count    6173.000000\n",
      "mean      198.019601\n",
      "std       140.546979\n",
      "min         0.000000\n",
      "25%       115.000000\n",
      "50%       160.000000\n",
      "75%       240.000000\n",
      "max      2500.000000\n",
      "Name: price, dtype: float64\n"
     ]
    }
   ],
   "source": [
    "# Converting the prices column to numeric datatype\n",
    "prices[\"price\"] = pd.to_numeric(prices[\"price\"])\n",
    "\n",
    "# Printing descriptive statistics for the price column\n",
    "print(prices[\"price\"].describe())"
   ]
  },
  {
   "cell_type": "code",
   "execution_count": 3,
   "metadata": {},
   "outputs": [
    {
     "name": "stdout",
     "output_type": "stream",
     "text": [
      "The average price per night for an Airbnb listing in Amsterdam is $198.28.\n"
     ]
    }
   ],
   "source": [
    "# Checking if there are any subset prices for listings costing $0 and saving it to the free_listings variable\n",
    "free_listings = prices[\"price\"] == 0\n",
    "\n",
    "# Updating prices by removing all free listings from prices if there are any\n",
    "prices = prices.loc[~free_listings]\n",
    "\n",
    "# Calculating the average price and rounding it for 2 nearest decimals and saving it to the variable avg_price \n",
    "avg_price = round(prices[\"price\"].mean(), 2)\n",
    "\n",
    "# Printing a message with the calculated average price per night\n",
    "print(\"The average price per night for an Airbnb listing in Amsterdam is ${}.\".format(avg_price))"
   ]
  },
  {
   "cell_type": "code",
   "execution_count": 4,
   "metadata": {},
   "outputs": [
    {
     "name": "stdout",
     "output_type": "stream",
     "text": [
      "Airbnb monthly costs in Amsterdam are $5948.3.\n"
     ]
    }
   ],
   "source": [
    "# Adding a new column called price_per_month to the prices dataframe \n",
    "prices[\"price_per_month\"] = prices[\"price\"] * 90 / 3\n",
    "\n",
    "# Calculating average_price_per_month and rounding it to the 2 nearest decimals\n",
    "average_price_per_month = round(prices[\"price_per_month\"].mean(), 2)\n",
    "\n",
    "# Printing the average_price_per_month in Amsterdam\n",
    "print(\"Airbnb monthly costs in Amsterdam are ${}.\".format(average_price_per_month))"
   ]
  },
  {
   "cell_type": "code",
   "execution_count": 5,
   "metadata": {},
   "outputs": [
    {
     "name": "stdout",
     "output_type": "stream",
     "text": [
      "entire home/apt    4223\n",
      "private room       1840\n",
      "hotel room           78\n",
      "shared room          32\n",
      "Name: room_type, dtype: int64\n"
     ]
    }
   ],
   "source": [
    "# Converting the room_type column to lowercase\n",
    "room_types[\"room_type\"] = room_types[\"room_type\"].str.lower()\n",
    "\n",
    "# Updating the room_type column to category data type\n",
    "room_types[\"room_type\"] = room_types[\"room_type\"].astype(\"category\")\n",
    "\n",
    "# Saving the frequencie of each type of room to the variable room_frequencies\n",
    "room_frequencies = room_types[\"room_type\"].value_counts()\n",
    "\n",
    "# Print room_frequencies to all types of room on Airbnb\n",
    "print(room_frequencies)"
   ]
  },
  {
   "cell_type": "code",
   "execution_count": 6,
   "metadata": {},
   "outputs": [
    {
     "name": "stdout",
     "output_type": "stream",
     "text": [
      "There are 0 duplicates in the DataFrame.\n",
      "            id             neighbourhood  price  price_per_month  \\\n",
      "0     23726706  IJburg - Zeeburgereiland   88.0           2640.0   \n",
      "1     35815036                Noord-Oost  105.0           3150.0   \n",
      "2     31553121                Noord-West  152.0           4560.0   \n",
      "3     34745823     Gaasperdam - Driemond   87.0           2610.0   \n",
      "4     44586947     Gaasperdam - Driemond  160.0           4800.0   \n",
      "...        ...                       ...    ...              ...   \n",
      "6168  43095925                       NaN    NaN              NaN   \n",
      "6169  43148414                       NaN    NaN              NaN   \n",
      "6170  46273178                       NaN    NaN              NaN   \n",
      "6171  46273734                       NaN    NaN              NaN   \n",
      "6172  47110768                       NaN    NaN              NaN   \n",
      "\n",
      "                                                   name        room_type  \n",
      "0     Private room 20 minutes from Amsterdam + Break...     private room  \n",
      "1     Vrijstaand vakantiehuis, privé tuin aan het water  entire home/apt  \n",
      "2                       Quiet Guesthouse near Amsterdam  entire home/apt  \n",
      "3              Apartment ' Landzicht', nearby Amsterdam  entire home/apt  \n",
      "4                     Weesp, 2 kamers vlakbij Amsterdam     private room  \n",
      "...                                                 ...              ...  \n",
      "6168                                      Acostar Hotel       hotel room  \n",
      "6169                            Luxury Suites Amsterdam       hotel room  \n",
      "6170                           CitizenM Amsterdam South       hotel room  \n",
      "6171                          CitizenM Amstel Amsterdam       hotel room  \n",
      "6172                                         Sir Albert       hotel room  \n",
      "\n",
      "[6173 rows x 6 columns]\n"
     ]
    }
   ],
   "source": [
    "# Merging prices and room_types to create the variable rooms_and_prices\n",
    "rooms_and_prices = prices.merge(room_types, how=\"outer\", on=\"id\")\n",
    "\n",
    "# Merging rooms_and_prices with the reviews DataFrame to create the variable airbnb_merged\n",
    "airbnb_merged = rooms_and_prices.merge(reviews, how=\"outer\", on=\"id\")\n",
    "\n",
    "# Droping any missing values from airbnb_merged to leave a clean dataframe\n",
    "airbnb_merged = airbnb_merged.dropna()\n",
    "\n",
    "# Checking if there are any duplicate values on airbnb_merged\n",
    "print(\"There are {} duplicates in the DataFrame.\".format(airbnb_merged.duplicated().sum()))\n",
    "print(rooms_and_prices)"
   ]
  },
  {
   "cell_type": "code",
   "execution_count": 7,
   "metadata": {},
   "outputs": [
    {
     "name": "stdout",
     "output_type": "stream",
     "text": [
      "                                             sum    mean  median  count\n",
      "n_hood                                                                 \n",
      "Centrum-Oost                            127426.0  233.38   185.0    546\n",
      "Centrum-West                            179842.0  228.23   185.0    788\n",
      "De Pijp - Rivierenbuurt                 110733.0  206.98   175.0    535\n",
      "Zuid                                     68209.0  206.69   177.0    330\n",
      "Oud-Noord                                43737.0  197.90   150.0    221\n",
      "Westerpark                               74697.0  192.02   160.0    389\n",
      "De Baarsjes - Oud-West                  153655.0  191.11   155.0    804\n",
      "Buitenveldert - Zuidas                   19618.0  188.63   162.0    104\n",
      "IJburg - Zeeburgereiland                 27579.0  180.25   150.0    153\n",
      "Oud-Oost                                 53530.0  179.03   155.0    299\n",
      "Watergraafsmeer                          32630.0  177.34   150.0    184\n",
      "Geuzenveld - Slotermeer                  16596.0  176.55   137.0     94\n",
      "De Aker - Nieuw Sloten                   14673.0  170.62   136.0     86\n",
      "Bos en Lommer                            37475.0  161.53   141.5    232\n",
      "Oostelijk Havengebied - Indische Buurt   29873.0  156.40   135.0    191\n",
      "Osdorp                                    7661.0  147.33   100.5     52\n",
      "Noord-West                               22144.0  144.73   130.0    153\n",
      "Noord-Oost                               23504.0  143.32   123.0    164\n",
      "Bijlmer-Centrum                           9239.0  131.99   122.5     70\n",
      "Slotervaart                              11552.0  129.80   110.0     89\n",
      "Bijlmer-Oost                              3205.0  128.20   111.0     25\n",
      "Gaasperdam - Driemond                     8687.0  120.65    97.0     72\n"
     ]
    }
   ],
   "source": [
    "# Extracting information from the neighbourhood column and store as a new column n_hood\n",
    "airbnb_merged[\"n_hood\"] = airbnb_merged[\"neighbourhood\"].str.partition(\",\")[0]\n",
    "\n",
    "# Grouping by neighbourhood and calculate summary statistics\n",
    "neighbourhoods = airbnb_merged.groupby(\"n_hood\")[\"price\"].agg([\"sum\", \"mean\", \"median\", \"count\"])\n",
    "\n",
    "# Rounding neighbourhoods to 2 nearest decimal places and sort by mean in descending order\n",
    "neighbourhoods = neighbourhoods.round(2).sort_values(\"mean\", ascending=False)\n",
    "\n",
    "# Printing neighbourhoods\n",
    "print(neighbourhoods)"
   ]
  },
  {
   "cell_type": "code",
   "execution_count": 8,
   "metadata": {},
   "outputs": [
    {
     "name": "stdout",
     "output_type": "stream",
     "text": [
      "neighbourhood    price_range\n",
      "Bijlmer-Centrum  Budget          16\n",
      "                 Average         33\n",
      "                 Expensive       20\n",
      "                 Extravagant      1\n",
      "Bijlmer-Oost     Budget           7\n",
      "                               ... \n",
      "Westerpark       Extravagant     46\n",
      "Zuid             Budget          12\n",
      "                 Average        130\n",
      "                 Expensive      131\n",
      "                 Extravagant     57\n",
      "Name: price_range, Length: 88, dtype: int64\n"
     ]
    }
   ],
   "source": [
    "# Create labels for the price range and saving as variable label_names\n",
    "label_names = [\"Budget\", \"Average\", \"Expensive\", \"Extravagant\"]\n",
    "\n",
    "# Create the label ranges and saving as variable ranges\n",
    "ranges = [0, 75, 150, 300, np.inf]\n",
    "\n",
    "# Inserting new column price_range into DataFrame\n",
    "airbnb_merged[\"price_range\"] = pd.cut(airbnb_merged[\"price\"], bins=ranges, labels=label_names)\n",
    "\n",
    "# Calculate occurence frequencies for each label, prices_by_neighbourhood\n",
    "prices_by_neighbourhood = airbnb_merged.groupby(['neighbourhood', 'price_range'])['price_range'].count()\n",
    "print(prices_by_neighbourhood)"
   ]
  }
 ],
 "metadata": {
  "kernelspec": {
   "display_name": "Python 3.10.7 64-bit",
   "language": "python",
   "name": "python3"
  },
  "language_info": {
   "codemirror_mode": {
    "name": "ipython",
    "version": 3
   },
   "file_extension": ".py",
   "mimetype": "text/x-python",
   "name": "python",
   "nbconvert_exporter": "python",
   "pygments_lexer": "ipython3",
   "version": "3.10.7"
  },
  "orig_nbformat": 4,
  "vscode": {
   "interpreter": {
    "hash": "e1735dd0795dce195fb98475ccf229151ed44a61fb274eb18cdb7c8302916985"
   }
  }
 },
 "nbformat": 4,
 "nbformat_minor": 2
}
